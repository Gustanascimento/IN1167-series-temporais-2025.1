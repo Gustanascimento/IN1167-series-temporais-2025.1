{
 "cells": [
  {
   "cell_type": "markdown",
   "metadata": {},
   "source": [
    "## 📊 Centro de Informática da Universidade Federal de Pernambuco\n",
    "### Pós-graduação em Ciências da Computação\n",
    "\n",
    "#### Disciplina IN1167 Séries Temporais\n",
    "**Gustavo Prazeres Paz do Nascimento (gppn)**\n",
    "\n",
    "---\n",
    "#### 📋 Lista de Exercícios - Análise de Modelos de Séries Temporais\n",
    "---\n",
    "\n",
    "#### 📊 Modelos\n",
    "1. Random Walk\n",
    "2. AR, MA\n",
    "3. ARIMA\n",
    "4. ARCH\n",
    "5. GARCH\n",
    "\n",
    "Variar os parâmetros dos modelos para demonstrar sua influência nos resultados.\n",
    "---"
   ]
  },
  {
   "cell_type": "markdown",
   "metadata": {},
   "source": [
    "Séries temporais escolhidas:\n",
    "\n",
    "1. **Série 1**: Dados de vendas de uma loja de varejo\n",
    "2. **Série 2**: Dados de temperatura de uma cidade\n",
    "3. **Série 3**: Dados de tráfego de rede"
   ]
  },
  {
   "cell_type": "code",
   "execution_count": null,
   "metadata": {},
   "outputs": [],
   "source": []
  }
 ],
 "metadata": {
  "kernelspec": {
   "display_name": "Python 3",
   "language": "python",
   "name": "python3"
  },
  "language_info": {
   "name": "python",
   "version": "3.10.0"
  }
 },
 "nbformat": 4,
 "nbformat_minor": 2
}
